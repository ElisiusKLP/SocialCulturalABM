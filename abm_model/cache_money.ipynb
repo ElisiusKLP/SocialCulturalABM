{
 "cells": [
  {
   "cell_type": "code",
   "execution_count": 3,
   "metadata": {},
   "outputs": [],
   "source": [
    "# loading packages\n",
    "import random\n",
    "import numpy as np\n",
    "import networkx as nx\n",
    "import pandas as pd\n",
    "from collections import Counter\n",
    "import matplotlib.pyplot as plt\n",
    "\n",
    "import mesa\n",
    "from mesa import Agent, Model\n",
    "from mesa.space import MultiGrid\n",
    "from mesa.time import StagedActivation\n",
    "from mesa.visualization.modules import CanvasGrid\n",
    "from mesa.visualization.ModularVisualization import ModularServer\n",
    "from mesa.datacollection import DataCollector"
   ]
  },
  {
   "attachments": {},
   "cell_type": "markdown",
   "metadata": {},
   "source": [
    "# CPS workflow\n",
    "\n",
    "## World \n",
    "\n",
    "\n",
    "## Agents\n",
    "Universal parameters:\n",
    "problem_solving\n",
    "communication\n",
    "\n",
    "role_correct\n",
    "role_distribution\n",
    "role_negotiation lvl3\n",
    "role_monitoring\n",
    "\n",
    "\n",
    "Level 1\n",
    "\n",
    "Level 2\n",
    "\n",
    "Level 3\n",
    "role_distributed=1\n",
    "\n",
    "Level 4\n",
    "Role_effect=1\n",
    "\n",
    "\n",
    "\n",
    "\n",
    "\n",
    "## Teams are formed\n",
    "\n",
    "## Problems\n",
    "All team is posed with a problem with Task_complexity (1:3) and Size (1000)\n",
    "\n",
    "\n",
    "Then we distribute role: 1 to len(team) (Do you fulfill your role or not?)\n",
    "- each is assigned a \"correct\" role\n",
    "- Then roles are more probable to become correct based on lvl2-4\n",
    "\n",
    "- If Lvl 3/4 then roles are distributed correctly/evenly at first\n",
    "- Self.Role=X\n",
    "\n",
    "First we try to generate common-ground:\n",
    "- Only lvl 2-4\n",
    "- Based on agents Communication parameter\n",
    "- Common_ground = 0 or 1\n",
    "\n",
    "Then we simulate role_alignment:\n",
    "- There some 0.8 prob that role stays correct\n",
    "- Theres some 0.2 prob that role might shift to incorrect\n",
    "\n",
    "Then Solutions are generated:\n",
    "- generate some 50 to 150 solution (based on problem_solving)\n",
    "- If lvl doesnt match task lvl then solution cannot be given\n",
    "\n",
    "If some role > 1:\n",
    "- Then conflict appears\n",
    "\n",
    "If common_ground=0\n",
    "- Lowest solution is chosen\n",
    "\n",
    "If all roles are evenly distributed and common ground = 1:\n",
    "    Then choose the highest solution\n",
    "\n",
    "Adjustement of error/Meta negotiations/Self and team monitoring:\n",
    "- Resolve_conflict\n",
    "    - 50% prob of conflict resolvement\n",
    "    - 90% if lvl 3 is present\n",
    "- Reach_common_ground\n",
    "    - \n"
   ]
  },
  {
   "cell_type": "code",
   "execution_count": 29,
   "metadata": {},
   "outputs": [],
   "source": [
    "def team(self):\n",
    "\n",
    "    team_size_min, team_size_max = 2, 5\n",
    "\n",
    "    neighbor_nodes = self.model.network.get_neighbors(node, include_center=False)\n",
    "    neighbors = self.model.network.get_cell_list_contents(neighbor_nodes)\n",
    "\n",
    "    team_id\n",
    "\n",
    "    for neighbor in neighbors:\n",
    "        connection_strength = (self.communication + neighbor.communication) / 2"
   ]
  },
  {
   "cell_type": "code",
   "execution_count": 30,
   "metadata": {},
   "outputs": [
    {
     "ename": "NameError",
     "evalue": "name 'num_agents' is not defined",
     "output_type": "error",
     "traceback": [
      "\u001b[0;31m---------------------------------------------------------------------------\u001b[0m",
      "\u001b[0;31mNameError\u001b[0m                                 Traceback (most recent call last)",
      "Cell \u001b[0;32mIn[30], line 3\u001b[0m\n\u001b[1;32m      1\u001b[0m numbers \u001b[39m=\u001b[39m []\n\u001b[1;32m      2\u001b[0m x \u001b[39m=\u001b[39m \u001b[39m1\u001b[39m\n\u001b[0;32m----> 3\u001b[0m \u001b[39mwhile\u001b[39;00m \u001b[39mlen\u001b[39m(numbers) \u001b[39m<\u001b[39m num_agents:\n\u001b[1;32m      4\u001b[0m     repetitions \u001b[39m=\u001b[39m random\u001b[39m.\u001b[39mrandint(\u001b[39m2\u001b[39m, \u001b[39m5\u001b[39m)\n\u001b[1;32m      5\u001b[0m     numbers\u001b[39m.\u001b[39mextend([x] \u001b[39m*\u001b[39m repetitions)\n",
      "\u001b[0;31mNameError\u001b[0m: name 'num_agents' is not defined"
     ]
    }
   ],
   "source": [
    "        numbers = []\n",
    "        x = 1\n",
    "        while len(numbers) < num_agents:\n",
    "            repetitions = random.randint(2, 5)\n",
    "            numbers.extend([x] * repetitions)\n",
    "            x += 1\n",
    "\n",
    "        numbers = numbers[:num_agents]  # Trim the list to the desired number of agents\n",
    "            \n",
    "        random.shuffle(numbers) \n",
    "\n",
    "        print(numbers)\n",
    "        len(numbers)\n",
    "\n",
    "print( set(numbers) )\n",
    "\n",
    "numbers.count(1)\n",
    "\n",
    "for i in set(numbers):\n",
    "    print( numbers.count(i) )\n",
    "    y = list(range(1, numbers.count(i)))\n",
    "    print(y)"
   ]
  },
  {
   "cell_type": "code",
   "execution_count": null,
   "metadata": {},
   "outputs": [],
   "source": [
    "import pandas as pd\n",
    "\n",
    "df = pd.DataFrame({\n",
    "    'agent_id': self.model.schedule.agents, \n",
    "    'team_id': numbers, \n",
    "    'roles': })"
   ]
  },
  {
   "cell_type": "code",
   "execution_count": 31,
   "metadata": {},
   "outputs": [
    {
     "name": "stdout",
     "output_type": "stream",
     "text": [
      "0\n",
      "1\n",
      "2\n",
      "3\n",
      "4\n",
      "5\n",
      "6\n",
      "7\n",
      "8\n",
      "9\n"
     ]
    }
   ],
   "source": [
    "for i in range(10):\n",
    "    print(i)"
   ]
  },
  {
   "cell_type": "code",
   "execution_count": null,
   "metadata": {},
   "outputs": [
    {
     "name": "stdout",
     "output_type": "stream",
     "text": [
      "1.1255088100000001\n",
      "1.8729812457271937\n",
      "0.8023532195493942\n",
      "2 0.55125\n",
      "2 0.607753125\n"
     ]
    },
    {
     "data": {
      "text/plain": [
       "1.44"
      ]
     },
     "execution_count": 25,
     "metadata": {},
     "output_type": "execute_result"
    }
   ],
   "source": [
    "prob = 0.5\n",
    "\n",
    "team = [1, 2, 1, 2]\n",
    "\n",
    "print(1.03**4)\n",
    "print( (1.04**4)**4  )\n",
    "print( 0.5 * 1.6047064390987884)\n",
    "\n",
    "weight = 0.5\n",
    "for i in team:\n",
    "    if i > 1:\n",
    "        weight *= (1.05 ** i)\n",
    "        print(i, weight)\n",
    "\n",
    "1.2**2\n"
   ]
  },
  {
   "cell_type": "code",
   "execution_count": 104,
   "metadata": {},
   "outputs": [
    {
     "data": {
      "text/plain": [
       "(array([ 34.,  43.,  84., 103., 142., 171., 275., 321., 365., 465., 513.,\n",
       "        533., 617., 666., 684., 643., 608., 604., 537., 485., 473., 364.,\n",
       "        312., 248., 163., 147., 114.,  74.,  47.,  36.]),\n",
       " array([1.00021256, 1.03351541, 1.06681826, 1.10012111, 1.13342396,\n",
       "        1.16672681, 1.20002966, 1.23333251, 1.26663536, 1.29993821,\n",
       "        1.33324106, 1.36654391, 1.39984676, 1.43314961, 1.46645246,\n",
       "        1.49975531, 1.53305816, 1.56636101, 1.59966386, 1.63296671,\n",
       "        1.66626956, 1.69957241, 1.73287526, 1.76617811, 1.79948096,\n",
       "        1.83278381, 1.86608666, 1.89938951, 1.93269236, 1.96599521,\n",
       "        1.99929806]),\n",
       " <BarContainer object of 30 artists>)"
      ]
     },
     "execution_count": 104,
     "metadata": {},
     "output_type": "execute_result"
    },
    {
     "data": {
      "image/png": "[encoded data removed]",
      "text/plain": [
       "<Figure size 640x480 with 1 Axes>"
      ]
     },
     "metadata": {},
     "output_type": "display_data"
    }
   ],
   "source": [
    "x = np.random.normal(1.5, 0.2, size=10000)\n",
    "x = x[(x >= 1) & (x <= 2)]\n",
    "\n",
    "plt.hist(x, bins=30)"
   ]
  },
  {
   "cell_type": "code",
   "execution_count": 112,
   "metadata": {},
   "outputs": [
    {
     "name": "stdout",
     "output_type": "stream",
     "text": [
      "Percentage below 340: 4.8500000000000005\n",
      "Percentage from 340 to 440: 22.02\n",
      "Percentage from 440 to 540: 40.089999999999996\n",
      "Percentage from 540 to 640: 26.35\n",
      "Percentage above 640: 6.69\n"
     ]
    },
    {
     "data": {
      "image/png": "[encoded data removed]",
      "text/plain": [
       "<Figure size 640x480 with 1 Axes>"
      ]
     },
     "metadata": {},
     "output_type": "display_data"
    }
   ],
   "source": [
    "x = np.random.normal(500, 95, size=10000)\n",
    "#x = x[(x >= 1) & (x <= 2)]\n",
    "\n",
    "\n",
    "plt.hist(x, bins=30)\n",
    "\n",
    "range1 = (340, 440)\n",
    "range2 = (440, 540)\n",
    "range3 = (540, 640)\n",
    "\n",
    "# Calculate the percentages for each range\n",
    "percentage_below_340 = np.sum(x < range1[0]) / len(x) * 100\n",
    "percentage_range1 = np.sum((x >= range1[0]) & (x < range1[1])) / len(x) * 100\n",
    "percentage_range2 = np.sum((x >= range2[0]) & (x < range2[1])) / len(x) * 100\n",
    "percentage_range3 = np.sum((x >= range3[0]) & (x < range3[1])) / len(x) * 100\n",
    "percentage_above_640 = np.sum(x >= range3[1]) / len(x) * 100\n",
    "\n",
    "# Print the results\n",
    "print(\"Percentage below 340:\", percentage_below_340)\n",
    "print(\"Percentage from 340 to 440:\", percentage_range1)\n",
    "print(\"Percentage from 440 to 540:\", percentage_range2)\n",
    "print(\"Percentage from 540 to 640:\", percentage_range3)\n",
    "print(\"Percentage above 640:\", percentage_above_640)"
   ]
  },
  {
   "cell_type": "code",
   "execution_count": 64,
   "metadata": {},
   "outputs": [
    {
     "name": "stdout",
     "output_type": "stream",
     "text": [
      "0\n",
      "1\n",
      "2\n",
      "3\n",
      "4\n",
      "5\n",
      "6\n",
      "7\n",
      "8\n",
      "9\n"
     ]
    }
   ],
   "source": [
    "x=10\n",
    "for i in range(0, x):\n",
    "    print(i)"
   ]
  },
  {
   "cell_type": "code",
   "execution_count": 42,
   "metadata": {},
   "outputs": [
    {
     "name": "stdout",
     "output_type": "stream",
     "text": [
      "{'agent_id': [0, 1, 2, 3, 4, 5, 6, 7, 8, 9, 10, 11, 12, 13, 14, 15, 16, 17, 18, 19], 'team_id': [4, 3, 4, 2, 6, 5, 3, 2, 3, 4, 1, 5, 6, 1, 1, 2, 4, 5, 1, 3]}\n"
     ]
    }
   ],
   "source": [
    "# Creating random teams of 2-5 agents based on the number of agents\n",
    "numbers = []\n",
    "num_agents = 20\n",
    "\n",
    "x = 1\n",
    "while len(numbers) < num_agents:\n",
    "    repetitions = random.randint(2, 5)\n",
    "    numbers.extend([x] * repetitions)\n",
    "    x += 1\n",
    "\n",
    "numbers = numbers[:num_agents]  # Trim the list to the desired number of agents\n",
    "    \n",
    "random.shuffle(numbers) \n",
    "\n",
    "groups = numbers\n",
    "\n",
    "# Creating the roles such that\n",
    "# each team has 2 to 5 roles specified by 1:n\n",
    "\n",
    "all_agents = list( range(0, num_agents) )\n",
    "teams = {\n",
    "    \"agent_id\": all_agents,\n",
    "    \"team_id\": numbers\n",
    "    #\"roles\": 0\n",
    "    }\n",
    "\n",
    "print(teams)\n",
    "\n",
    "    \n",
    "    \n",
    "agent_team_dict = {agent_id: team_id for agent_id, team_id in zip(teams['agent_id'], teams['team_id'])}\n",
    "\n",
    "# create roles\n"
   ]
  },
  {
   "cell_type": "code",
   "execution_count": 43,
   "metadata": {},
   "outputs": [
    {
     "name": "stdout",
     "output_type": "stream",
     "text": [
      "4\n",
      "[1, 2, 3]\n",
      "3\n",
      "[1, 2]\n",
      "4\n",
      "[1, 2, 3]\n",
      "4\n",
      "[1, 2, 3]\n",
      "3\n",
      "[1, 2]\n",
      "2\n",
      "[1]\n"
     ]
    }
   ],
   "source": [
    "for i in set(teams['team_id']):\n",
    "    print( teams['team_id'].count(i) )\n",
    "    y = list(range(1, teams['team_id'].count(i)))\n",
    "    print(y)"
   ]
  },
  {
   "cell_type": "code",
   "execution_count": null,
   "metadata": {},
   "outputs": [],
   "source": [
    "\n",
    "team_counts = {}\n",
    "\n",
    "# Count the number of agents in each team\n",
    "for team_id in teams.values():\n",
    "    team_counts[team_id] = team_counts.get(team_id) + 1\n",
    "\n",
    "# Generate and distribute role numbers to team IDs\n",
    "team_roles = {}\n",
    "for team_id in set(teams.values()):\n",
    "    count = team_counts[team_id]\n",
    "    numbers = list(range(1, count + 1))\n",
    "    random.shuffle(numbers)\n",
    "    team_roles[team_id] = numbers\n",
    "\n",
    "# Print the team roles\n",
    "for team_id, roles in team_roles.items():\n",
    "    print(\"Team ID:\", team_id)\n",
    "    print(\"Roles:\", roles)\n",
    "\n",
    "print(\"agent_team_dict:\", agent_team_dict)\n",
    "print(\"teams:\", teams)\n",
    "print(team_roles)\n",
    "\n",
    "\n"
   ]
  },
  {
   "attachments": {},
   "cell_type": "markdown",
   "metadata": {},
   "source": [
    "# Cache"
   ]
  },
  {
   "cell_type": "code",
   "execution_count": 38,
   "metadata": {},
   "outputs": [],
   "source": [
    "# A cache for stage activation model\n",
    "class TeamModel(Model):\n",
    "    def __init__(self, num_agents):\n",
    "        y = num_agents\n",
    "\n",
    "        model_stages= [\"stage_one\", \"stage_two\"]\n",
    "        self.schedule = StagedActivation(self, \n",
    "                                         model_stages,\n",
    "                                         shuffle=False,\n",
    "                                         shuffle_between_stages=False)\n",
    "        \n",
    "        self.teams = {}\n",
    "        self.agent_team_dict = {}\n",
    "        self.groups = []\n",
    "        self.problem_complexity = 0\n",
    "        \n",
    "        for i in range(y):\n",
    "            agent = TeamAgent(i, self)\n",
    "            self.schedule.add(agent)\n",
    "\n",
    "    # Creating team lists\n",
    "    def create_teams(self):\n",
    "        # Creating random teams of 2-5 agents based on the number of agents\n",
    "        numbers = []\n",
    "        x = 1\n",
    "        while len(numbers) < num_agents:\n",
    "            repetitions = random.randint(2, 5)\n",
    "            numbers.extend([x] * repetitions)\n",
    "            x += 1\n",
    "\n",
    "        numbers = numbers[:num_agents]  # Trim the list to the desired number of agents\n",
    "            \n",
    "        random.shuffle(numbers) \n",
    "\n",
    "        self.groups = numbers\n",
    "\n",
    "        # Creating the roles such that\n",
    "        # each team has 2 to 5 roles specified by 1:n\n",
    "\n",
    "        all_agents = list( range(0, y) )\n",
    "        self.teams = {\n",
    "            \"agent_id\": all_agents,\n",
    "            \"team_id\": self.groups\n",
    "            #\"roles\": 0\n",
    "        }\n",
    "\n",
    "        self.agent_team_dict = {agent_id: team_id for agent_id, team_id in zip(self.teams['agent_id'], self.teams['team_id'])}\n",
    "\n",
    "        \n",
    "\n",
    "    \n",
    "    # creating a problem which is then used for solving\n",
    "    def generate_problem(self): \n",
    "        self.problem_complexity = random.int(1,3)\n",
    "        \n",
    "    \n",
    "    # A function which checks\n",
    "    def collect_teams(self):\n",
    "        print(self.teams)\n",
    "        print(self.agent_team_dict)\n",
    "\n",
    "    def reset_variables(self):\n",
    "        self.teams = {}\n",
    "        self.agent_team_dict = {}\n",
    "        self.groups = []\n",
    "        self.problem_complexity = 0\n",
    "\n",
    "    def step(self):\n",
    "        self.reset_variables()\n",
    "        self.create_teams()\n",
    "        self.schedule.step()\n",
    "        self.collect_teams()\n",
    "\n",
    "\n"
   ]
  },
  {
   "cell_type": "code",
   "execution_count": null,
   "metadata": {},
   "outputs": [],
   "source": [
    "    def step(self):\n",
    "        self.reset_team()\n",
    "        self.join_teams3()\n",
    "        self.get_correct_role()\n",
    "        self.grab_team_cps()\n",
    "        self.problem_loop()"
   ]
  },
  {
   "cell_type": "code",
   "execution_count": null,
   "metadata": {},
   "outputs": [],
   "source": [
    "    def step(self):\n",
    "        self.reset_variables()\n",
    "        self.create_teams()\n",
    "        self.schedule.stage = \"stage_one\"\n",
    "        self.schedule.step()\n",
    "        # create a loop which initiates the loop for self.rounds\n",
    "        self.transfer_agents1()\n",
    "        for i in range(10):\n",
    "           self.schedule2.step()\n",
    "        self.collect_teams()"
   ]
  },
  {
   "cell_type": "code",
   "execution_count": 9,
   "metadata": {},
   "outputs": [
    {
     "name": "stdout",
     "output_type": "stream",
     "text": [
      "[0, 2, 3]\n",
      "[0, 1, 2, 3]\n"
     ]
    }
   ],
   "source": [
    "x=[0,1,2,3]\n",
    "\n",
    "x.remove(1)\n",
    "\n",
    "print(x)\n",
    "\n",
    "print( list(range(4)) )"
   ]
  },
  {
   "cell_type": "code",
   "execution_count": null,
   "metadata": {},
   "outputs": [],
   "source": [
    "\n",
    "self.current_role = np.random.choice([self.correct_role, random.randint(0, len(self.team_members)-1)], p=[0.8, 0.2])"
   ]
  },
  {
   "cell_type": "code",
   "execution_count": 29,
   "metadata": {},
   "outputs": [
    {
     "name": "stdout",
     "output_type": "stream",
     "text": [
      "[0.8, 0.06666666666666667, 0.06666666666666667, 0.06666666666666667]\n",
      "2\n"
     ]
    }
   ],
   "source": [
    "x=[1,2,3,4]\n",
    "y=2\n",
    "alist = list(range(len(x)))\n",
    "alist.remove(y)\n",
    "probabilities = [0.8] + [0.2 / len(other_roles)] * len(other_roles)\n",
    "print(probabilities)\n",
    "other_roles = alist\n",
    "current_role = np.random.choice([y] + other_roles, p=probabilities)\n",
    "print(current_role)"
   ]
  },
  {
   "attachments": {},
   "cell_type": "markdown",
   "metadata": {},
   "source": []
  },
  {
   "cell_type": "code",
   "execution_count": 49,
   "metadata": {},
   "outputs": [
    {
     "data": {
      "text/plain": [
       "4"
      ]
     },
     "execution_count": 49,
     "metadata": {},
     "output_type": "execute_result"
    }
   ],
   "source": [
    "dict = {\n",
    "    1: [2, 3, 4],\n",
    "    2: [1, 2, 3]\n",
    "}\n",
    "\n",
    "x= 1\n",
    "\n",
    "max(dict[x])"
   ]
  },
  {
   "cell_type": "code",
   "execution_count": 53,
   "metadata": {},
   "outputs": [
    {
     "name": "stdout",
     "output_type": "stream",
     "text": [
      "[0, 0, 0, 0, 0, 1, 1, 2, 2, 2, 2, 3, 3, 3, 4, 4, 4, 4, 4, 5]\n"
     ]
    }
   ],
   "source": [
    "numbers = []\n",
    "x = 0\n",
    "y=20\n",
    "while len(numbers) < y:\n",
    "    repetitions = random.randint(2, 5)\n",
    "    numbers.extend([x] * repetitions)\n",
    "    x += 1\n",
    "\n",
    "numbers = numbers[:y]  # Trim the list to the desired number of agents\n",
    "    \n",
    "\n",
    "print(numbers)\n",
    "\n",
    "    "
   ]
  },
  {
   "cell_type": "code",
   "execution_count": 107,
   "metadata": {},
   "outputs": [
    {
     "name": "stdout",
     "output_type": "stream",
     "text": [
      "[0, 0, 0, 1, 1, 1, 1, 2, 2, 3, 3, 3, 3, 4, 4, 4, 4, 5, 5, 5]\n",
      "len: 20\n",
      "{0, 1, 2, 3, 4, 5}\n",
      "3\n",
      "4\n",
      "2\n",
      "4\n",
      "4\n",
      "3\n"
     ]
    }
   ],
   "source": [
    "numbers = []\n",
    "x = 0\n",
    "y = 20\n",
    "while len(numbers) <= y:\n",
    "    repetitions = random.randint(2, 5)\n",
    "    numbers.extend([x] * repetitions)\n",
    "    x += 1\n",
    "numbers = numbers[:y]  # Trim the list to the desired number of agents\n",
    "if numbers.count(numbers[y-1]) < 2:\n",
    "    numbers.remove(numbers[y-1])\n",
    "    for i in set(numbers):\n",
    "        if numbers.count(i) < 5:\n",
    "            numbers.append(i)\n",
    "            break\n",
    "\n",
    "\n",
    "print(numbers)\n",
    "print(\"len:\", len(numbers))\n",
    "print(set(numbers))\n",
    "for i in set(numbers):\n",
    "    print( numbers.count(i) )\n"
   ]
  },
  {
   "cell_type": "code",
   "execution_count": 157,
   "metadata": {},
   "outputs": [
    {
     "name": "stdout",
     "output_type": "stream",
     "text": [
      "[0, 1, 2]\n",
      "[0, 0, 0, 1, 1, 1, 2, 2, 2, 3, 3, 3, 3, 3, 4, 4, 4, 4, 4, 1]\n",
      "len: 20\n",
      "{0, 1, 2, 3, 4}\n",
      "3\n",
      "4\n",
      "3\n",
      "5\n",
      "5\n"
     ]
    }
   ],
   "source": [
    "numbers = []\n",
    "x = 0\n",
    "y = 20\n",
    "while len(numbers) <= y:\n",
    "    repetitions = random.randint(2, 5)\n",
    "    numbers.extend([x] * repetitions)\n",
    "    x += 1\n",
    "numbers = numbers[:y]  # Trim the list to the desired number of agents\n",
    "if numbers.count(numbers[y-1]) < 2:\n",
    "    numbers.remove(numbers[y-1])\n",
    "    possible_teams = []\n",
    "    for i in set(numbers):\n",
    "        if numbers.count(i) < 5:\n",
    "            possible_teams.append(i)\n",
    "    numbers.append(random.choice(possible_teams))\n",
    "\n",
    "print(possible_teams)\n",
    "print(numbers)\n",
    "print(\"len:\", len(numbers))\n",
    "print(set(numbers))\n",
    "for i in set(numbers):\n",
    "    print( numbers.count(i) )\n"
   ]
  },
  {
   "cell_type": "code",
   "execution_count": 71,
   "metadata": {},
   "outputs": [
    {
     "name": "stdout",
     "output_type": "stream",
     "text": [
      "[0, 1, 2, 3, 4, 5, 6, 7, 8, 9, 10, 11, 12, 13, 14, 15, 16, 17, 18, 19]\n"
     ]
    },
    {
     "ename": "IndexError",
     "evalue": "list index out of range",
     "output_type": "error",
     "traceback": [
      "\u001b[0;31m---------------------------------------------------------------------------\u001b[0m",
      "\u001b[0;31mIndexError\u001b[0m                                Traceback (most recent call last)",
      "Cell \u001b[0;32mIn[71], line 4\u001b[0m\n\u001b[1;32m      2\u001b[0m z \u001b[39m=\u001b[39m \u001b[39mlist\u001b[39m( \u001b[39mrange\u001b[39m(\u001b[39m0\u001b[39m, \u001b[39m20\u001b[39m))\n\u001b[1;32m      3\u001b[0m \u001b[39mprint\u001b[39m(z)\n\u001b[0;32m----> 4\u001b[0m z[y]\n\u001b[1;32m      5\u001b[0m z[y]\u001b[39m.\u001b[39mcount()\n",
      "\u001b[0;31mIndexError\u001b[0m: list index out of range"
     ]
    }
   ],
   "source": [
    "y=20\n",
    "z = list( range(0, 20))\n",
    "print(z)\n",
    "z[y]\n",
    "z[y].count()\n",
    "    "
   ]
  },
  {
   "attachments": {},
   "cell_type": "markdown",
   "metadata": {},
   "source": []
  },
  {
   "cell_type": "code",
   "execution_count": 60,
   "metadata": {},
   "outputs": [
    {
     "name": "stdout",
     "output_type": "stream",
     "text": [
      "[0, 0, 0, 0, 1, 1, 1, 2, 2, 2, 3, 3, 3, 3, 3, 4, 4, 4, 5]\n"
     ]
    }
   ],
   "source": [
    "import random\n",
    "\n",
    "numbers = []\n",
    "x = 0\n",
    "while len(numbers) < y - 1:  # Subtract 1 to account for the last occurrence\n",
    "    repetitions = random.randint(2, 5)\n",
    "    if len(numbers) + repetitions > y - 1:\n",
    "        repetitions = y - 1 - len(numbers)  # Adjust repetitions to fit remaining slots\n",
    "    numbers.extend([x] * repetitions)\n",
    "    x += 1\n",
    "\n",
    "remaining_slots = y - len(numbers)  # Calculate the number of remaining slots\n",
    "if remaining_slots == 1:\n",
    "    # If there's only one remaining slot, make the last number the previous number that doesn't exceed 5\n",
    "    last_number = numbers[-1]\n",
    "    for i in range(last_number - 1, -1, -1):\n",
    "        if i not in numbers and last_number - i <= 5:\n",
    "            numbers.append(i)\n",
    "            break\n",
    "else:\n",
    "    numbers.extend([x] * remaining_slots)  # Fill the remaining slots with the last number\n",
    "\n",
    "print(numbers)\n",
    "\n",
    "random.shuffle(numbers)\n",
    "\n"
   ]
  },
  {
   "cell_type": "code",
   "execution_count": null,
   "metadata": {},
   "outputs": [],
   "source": []
  },
  {
   "cell_type": "code",
   "execution_count": null,
   "metadata": {},
   "outputs": [],
   "source": [
    "# This caused some key problems doing a reset variable function\n",
    "                    for agent_key in agent_keys:\n",
    "                        if agent_key in self._agents:\n",
    "                            getattr(self._agents[agent_key], \"stage_four\")()  # Run stage"
   ]
  }
 ],
 "metadata": {
  "kernelspec": {
   "display_name": "Python 3",
   "language": "python",
   "name": "python3"
  },
  "language_info": {
   "codemirror_mode": {
    "name": "ipython",
    "version": 3
   },
   "file_extension": ".py",
   "mimetype": "text/x-python",
   "name": "python",
   "nbconvert_exporter": "python",
   "pygments_lexer": "ipython3",
   "version": "3.9.12"
  },
  "orig_nbformat": 4
 },
 "nbformat": 4,
 "nbformat_minor": 2
}
