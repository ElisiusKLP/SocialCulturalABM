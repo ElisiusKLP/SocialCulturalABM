{
 "cells": [
  {
   "attachments": {},
   "cell_type": "markdown",
   "metadata": {},
   "source": [
    "# Agent Based Modeling of complex collaborative problem solving and the effects of Teamwork Interventions\n"
   ]
  },
  {
   "cell_type": "code",
   "execution_count": 2,
   "metadata": {},
   "outputs": [],
   "source": [
    "# installing relevant packages\n",
    "import random\n",
    "import math\n",
    "from mesa import Agent, Model\n",
    "from mesa.time import RandomActivation\n",
    "from mesa.space import ContinuousSpace\n",
    "from mesa.datacollection import DataCollector\n",
    "from mesa.visualization.ModularVisualization import ModularServer"
   ]
  },
  {
   "cell_type": "code",
   "execution_count": null,
   "metadata": {},
   "outputs": [],
   "source": [
    "class TeamAgent(mesa.Agent):\n",
    "    \"\"\"An agent with fixed initial wealth.\"\"\"\n",
    "\n",
    "    def __init__(self, unique_id, model):\n",
    "        super().__init__(unique_id, model)\n",
    "        self.wealth = 1"
   ]
  },
  {
   "cell_type": "code",
   "execution_count": 3,
   "metadata": {},
   "outputs": [
    {
     "ename": "SyntaxError",
     "evalue": "invalid syntax (2380222871.py, line 85)",
     "output_type": "error",
     "traceback": [
      "\u001b[0;36m  Cell \u001b[0;32mIn[3], line 85\u001b[0;36m\u001b[0m\n\u001b[0;31m    height =  # Calculate height based on your terrain function\u001b[0m\n\u001b[0m              ^\u001b[0m\n\u001b[0;31mSyntaxError\u001b[0m\u001b[0;31m:\u001b[0m invalid syntax\n"
     ]
    }
   ],
   "source": [
    "import random\n",
    "import math\n",
    "from mesa import Agent, Model\n",
    "from mesa.time import RandomActivation\n",
    "from mesa.space import ContinuousSpace\n",
    "from mesa.datacollection import DataCollector\n",
    "from mesa.visualization.ModularVisualization import ModularServer\n",
    "\n",
    "class MyAgent(Agent):\n",
    "    def __init__(self, unique_id, model, productivity):\n",
    "        super().__init__(unique_id, model)\n",
    "        # Define your agent's attributes here\n",
    "        # Individual skills\n",
    "        self.productivity = productivity\n",
    "        self.skill = random.uniform(0.1, 0.5)\n",
    "        self.communication_param = random.uniform(0, 1)\n",
    "        # Team skills\n",
    "\n",
    "\n",
    "    def move(self):\n",
    "        current_x, current_y, current_z = self.model.space.get_agent_coordinates(self)\n",
    "        dx, dy, dz = self.model.get_gradient(current_x, current_y)\n",
    "        magnitude = math.sqrt(dx ** 2 + dy ** 2 + dz ** 2)\n",
    "        if magnitude > 0:\n",
    "            dx /= magnitude\n",
    "            dy /= magnitude\n",
    "            dz /= magnitude\n",
    "\n",
    "        new_x = current_x + self.skill * dx\n",
    "        new_y = current_y + self.skill * dy\n",
    "        new_z = current_z + self.skill * dz\n",
    "\n",
    "        self.model.space.move_agent(self, (new_x, new_y, new_z))\n",
    "\n",
    "    def communicate(self):\n",
    "        nearby_agents = self.model.space.get_neighbors(\n",
    "            self.pos, include_center=False, radius=2\n",
    "        )\n",
    "        num_communications = random.randint(1, 2)\n",
    "        chosen_agents = random.sample(nearby_agents, num_communications)\n",
    "\n",
    "        for agent in chosen_agents:\n",
    "            agent_height, agent_gradient = self.model.get_height_and_gradient(agent.pos)\n",
    "            self_height, self_gradient = self.model.get_height_and_gradient(self.pos)\n",
    "\n",
    "            if agent_height < self_height:\n",
    "                agent.productivity += self.communication_param\n",
    "            elif agent_gradient < self_gradient:\n",
    "                agent.productivity -= self.communication_param\n",
    "\n",
    "    def step(self):\n",
    "        self.move()\n",
    "        self.communicate()\n",
    "\n",
    "class MyModel(Model):\n",
    "    def __init__(self, num_agents):\n",
    "        self.num_agents = num_agents\n",
    "        self.schedule = RandomActivation(self)\n",
    "        self.space = ContinuousSpace(100, 100, 100, torus=False)\n",
    "        self.datacollector = DataCollector(\n",
    "            model_reporters={\"Total Productivity\": lambda m: sum(a.productivity for a in m.schedule.agents)}\n",
    "        )\n",
    "\n",
    "        for i in range(self.num_agents):\n",
    "            productivity = random.uniform(0, 1)\n",
    "            a = MyAgent(i, self, productivity)\n",
    "            self.schedule.add(a)\n",
    "            self.space.place_agent(a, self.get_random_lowest_point())\n",
    "\n",
    "    def get_random_lowest_point(self):\n",
    "        lowest_points = self.space.get_empty_spaces()\n",
    "        num_lowest_points = len(lowest_points)\n",
    "        random_index = random.randint(0, int(num_lowest_points * 0.05) - 1)\n",
    "        return lowest_points[random_index]\n",
    "\n",
    "    def get_height_and_gradient(self, pos):\n",
    "        x, y, z = pos\n",
    "        height = self.get_height(x, y, z)\n",
    "        gradient = self.get_gradient(x, y)\n",
    "        return height, gradient\n",
    "\n",
    "    def get_height(self, x, y, z):\n",
    "        # Define your terrain function here (e.g., a function that generates peaks and valleys)\n",
    "        # and calculate the height at the given coordinates\n",
    "        height =  # Calculate height based on your terrain function\n",
    "        return height\n",
    "\n",
    "    def get_gradient(self, x, y):\n",
    "        # Define your gradient function here (e.g., calculate the gradient based on nearby points)\n",
    "        # and return the gradient values at the given coordinates\n"
   ]
  },
  {
   "cell_type": "code",
   "execution_count": null,
   "metadata": {},
   "outputs": [],
   "source": [
    "class MyAgent(Agent):\n",
    "    def __init__(self, unique_id, model, productivity):\n",
    "        super().__init__(unique_id, model)\n",
    "        # Define your agent's attributes here\n",
    "        # Individual skills\n",
    "        self.productivity = productivity\n",
    "        self.skill = random.uniform(0.1, 0.5)\n",
    "        self.communication_param = random.uniform(0, 1)\n",
    "        # Team skills\n",
    "\n",
    "    def step(self):\n",
    "        self"
   ]
  },
  {
   "cell_type": "code",
   "execution_count": null,
   "metadata": {},
   "outputs": [],
   "source": [
    "model = MyModel(num_agents=10)\n",
    "\n",
    "def agent_portrayal(agent):\n",
    "    portrayal = {\"Shape\": \"circle\", \"Color\": \"red\", \"Filled\": \"true\", \"r\": 1}\n",
    "    return portrayal\n",
    "\n",
    "canvas_element = CanvasGrid(agent_portrayal, 100, 100, 500, 500)\n",
    "server = ModularServer(\n",
    "    MyModel, [canvas_element], \"Agent-Based Model\",\n",
    "    {\"num_agents\": 10}\n",
    ")\n",
    "server.port = 8521  # Set the server port (default: 8521)\n",
    "server.launch()\n"
   ]
  }
 ],
 "metadata": {
  "kernelspec": {
   "display_name": "Python 3",
   "language": "python",
   "name": "python3"
  },
  "language_info": {
   "codemirror_mode": {
    "name": "ipython",
    "version": 3
   },
   "file_extension": ".py",
   "mimetype": "text/x-python",
   "name": "python",
   "nbconvert_exporter": "python",
   "pygments_lexer": "ipython3",
   "version": "3.9.12"
  },
  "orig_nbformat": 4
 },
 "nbformat": 4,
 "nbformat_minor": 2
}
